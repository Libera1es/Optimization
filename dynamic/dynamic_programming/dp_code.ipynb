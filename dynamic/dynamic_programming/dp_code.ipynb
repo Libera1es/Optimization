{
 "cells": [
  {
   "cell_type": "markdown",
   "id": "0e17baad",
   "metadata": {},
   "source": [
    "# Direct Attack  "
   ]
  },
  {
   "cell_type": "markdown",
   "id": "f2e8fc93",
   "metadata": {},
   "source": [
    "## Linear Flow Eq  \n",
    "\n",
    "$$\\max_{\\{c_t\\}^T_1} U = \\sum^T_{t=1}\\beta^{t-1}u(c_t)$$\n",
    "  subject to:\n",
    "$$\\sum^T_{t=1} c_t + k_{T+1} = k_1 \\\\ c_t > 0 \\\\ k_t > 0$$  \n",
    "\n",
    "If we know the func $u(c_t)$, the discount factor $\\beta$, the initial endowment $k_1$ and periods $T$, we can solve this problem.  "
   ]
  },
  {
   "cell_type": "markdown",
   "id": "2ed7449e",
   "metadata": {},
   "source": [
    "Here, $u(c)$ is log func, $\\beta = 0.9$, $k_1 = 100$ and $T = 10$.  "
   ]
  },
  {
   "cell_type": "code",
   "execution_count": null,
   "id": "6fb440ac",
   "metadata": {},
   "outputs": [
    {
     "name": "stdout",
     "output_type": "stream",
     "text": [
      "Period 1: Consumption = 15.3534\n",
      "Period 2: Consumption = 13.8181\n",
      "Period 3: Consumption = 12.4362\n",
      "Period 4: Consumption = 11.1926\n",
      "Period 5: Consumption = 10.0734\n",
      "Period 6: Consumption = 9.0660\n",
      "Period 7: Consumption = 8.1594\n",
      "Period 8: Consumption = 7.3435\n",
      "Period 9: Consumption = 6.6091\n",
      "Period 10: Consumption = 5.9482\n"
     ]
    },
    {
     "data": {
      "text/plain": [
       "100.0"
      ]
     },
     "execution_count": 20,
     "metadata": {},
     "output_type": "execute_result"
    }
   ],
   "source": [
    "import numpy as np\n",
    "from scipy.optimize import minimize\n",
    "beta = 0.9\n",
    "k0 = 100\n",
    "T = 10\n",
    "\n",
    "def obj(c):\n",
    "    return -np.sum([beta**t * np.log(c[t]) for t in range(T)])\n",
    "\n",
    "def resource_constraitnt(c):\n",
    "    return k0 - np.sum(c)\n",
    "const = [{'type':'eq', 'fun': resource_constraitnt}]\n",
    "\n",
    "# variable constraint\n",
    "bounds = [(0, None)] * T\n",
    "\n",
    "# initial point\n",
    "c0 = np.full(T, k0 / T)\n",
    "\n",
    "res = minimize(obj, constraints=const, bounds=bounds, x0=c0,method='SLSQP', tol='1e-20')\n",
    "\n",
    "paths = []\n",
    "for t, c_t in enumerate(res.x):\n",
    "    print(f\"Period {t + 1}: Consumption = {c_t:.4f}\")\n",
    "    paths.append(c_t)\n",
    "np.sum(paths)"
   ]
  },
  {
   "cell_type": "markdown",
   "id": "760b1d80",
   "metadata": {},
   "source": [
    "## Non-Linear Flow Eq  \n",
    "\n",
    "$$\\max_{\\{c_t\\}^T_1} U = \\sum^T_{t=1}\\beta^{t-1}u(c_t)$$\n",
    "subject to:\n",
    "$$k_{t+1} = f(k_t-c_t, \\theta) \\\\ c_t > 0 \\\\ k_t > 0$$  \n",
    "\n",
    "Here, the pf is Cobb-Douglas:  \n",
    "$$k_{t+1} = f(k_t-c_t, \\theta)= \\theta(k_t - c_t)^\\alpha$$  "
   ]
  },
  {
   "cell_type": "code",
   "execution_count": 127,
   "id": "c345d094",
   "metadata": {},
   "outputs": [
    {
     "name": "stderr",
     "output_type": "stream",
     "text": [
      "C:\\Users\\Tsunc\\AppData\\Local\\Temp\\ipykernel_4552\\97905264.py:11: RuntimeWarning: divide by zero encountered in log\n",
      "  V = np.sum(beta**(t - 1) * np.log(c))\n"
     ]
    },
    {
     "name": "stdout",
     "output_type": "stream",
     "text": [
      "Optimization terminated successfully    (Exit mode 0)\n",
      "            Current function value: -17.658853447604137\n",
      "            Iterations: 999\n",
      "            Function evaluations: 25058\n",
      "            Gradient evaluations: 998\n",
      "Optimal consumption and capital path:\n",
      "t=1: c = 16.5168, k = 91.6956\n",
      "t=2: c = 15.8437, k = 83.4735\n",
      "t=3: c = 15.4496, k = 75.0221\n",
      "t=4: c = 15.0586, k = 66.2996\n",
      "t=5: c = 14.8554, k = 57.0547\n",
      "t=6: c = 14.3864, k = 47.4991\n",
      "t=7: c = 14.1407, k = 37.3183\n",
      "t=8: c = 14.1507, k = 26.1074\n",
      "t=9: c = 13.8951, k = 13.9393\n",
      "t=10: c = 13.9393, k = 0.0000\n"
     ]
    }
   ],
   "source": [
    "beta = 0.9\n",
    "T = 10\n",
    "K1 = 100\n",
    "theta = 1.2\n",
    "alpha = 0.98\n",
    "\n",
    "def flow_utility(CK_flat):\n",
    "    CK = CK_flat.reshape(T, 2)\n",
    "    c = CK[:, 0]\n",
    "    t = np.arange(1, T+1)\n",
    "    V = np.sum(beta**(t - 1) * np.log(c))\n",
    "    return -V\n",
    "\n",
    "def flow_constraint(CK_flat):\n",
    "    CK = CK_flat.reshape(T, 2)\n",
    "    c = CK[:, 0]\n",
    "    cap = CK[:, 1]\n",
    "    k = np.concatenate(([K1], cap))  # [K1, k2, ..., k_{T+1}]\n",
    "\n",
    "    deq = []\n",
    "    for t in range(T):\n",
    "        usable = k[t] - c[t]\n",
    "        if usable < 0:\n",
    "            # 非現実的な入力なら強制的に大きな制約違反にする\n",
    "            return np.ones(T) * 1e6\n",
    "        deq.append(k[t+1] - (theta * usable**alpha))\n",
    "    return np.array(deq)\n",
    "\n",
    "constraints = [{\n",
    "    'type': 'eq',\n",
    "    'fun': flow_constraint\n",
    "}]\n",
    "\n",
    "guess_C = np.full(T, 5.0)  \n",
    "guess_K = np.linspace(90, 20, T) \n",
    "guess = np.column_stack([guess_C, guess_K]).flatten()\n",
    "\n",
    "lb = np.zeros((T, 2)).flatten()\n",
    "ub = np.full((T, 2), 100.0).flatten()\n",
    "bounds = [(lb[i], ub[i]) for i in range(2 * T)]\n",
    "\n",
    "opt_result = minimize(\n",
    "    fun=flow_utility,\n",
    "    x0=guess,\n",
    "    bounds=bounds,\n",
    "    constraints=constraints,\n",
    "    method='SLSQP',\n",
    "    options={\n",
    "        'ftol': 1e-10,\n",
    "        'maxiter': 2000,\n",
    "        'disp': True\n",
    "    }\n",
    ")\n",
    "\n",
    "if opt_result.success:\n",
    "    CK_opt = opt_result.x.reshape(T, 2)\n",
    "    C_opt = CK_opt[:, 0]\n",
    "    K_opt = CK_opt[:, 1]\n",
    "    print(\"Optimal consumption and capital path:\")\n",
    "    for t in range(T):\n",
    "        print(f\"t={t+1}: c = {C_opt[t]:.4f}, k = {K_opt[t]:.4f}\")\n",
    "else:\n",
    "    print(\"Optimization failed:\", opt_result.message)\n"
   ]
  },
  {
   "cell_type": "markdown",
   "id": "768cb014",
   "metadata": {},
   "source": [
    "# Dynamic Programming  \n",
    "\n",
    "$$V_{T+1}(k_{T+1}) = 0$$\n",
    "\n",
    "$$V_T(k_T) = \\max_{c_T\\in(0,k_T]}\\{u(c_T)+\\beta V_{T+1}(k_{T+1}) \\}$$\n"
   ]
  },
  {
   "cell_type": "code",
   "execution_count": null,
   "id": "620711e8",
   "metadata": {},
   "outputs": [
    {
     "data": {
      "text/plain": [
       "array([[100.  ,  15.35],\n",
       "       [ 84.65,  13.8 ],\n",
       "       [ 70.85,  12.45],\n",
       "       [ 58.4 ,  11.2 ],\n",
       "       [ 47.2 ,  10.1 ],\n",
       "       [ 37.1 ,   9.05],\n",
       "       [ 28.05,   8.15],\n",
       "       [ 19.9 ,   7.35],\n",
       "       [ 12.55,   6.6 ],\n",
       "       [  5.95,   5.95]])"
      ]
     },
     "execution_count": 195,
     "metadata": {},
     "output_type": "execute_result"
    }
   ],
   "source": [
    "def backwardinduction(beta, period, initial_endowment, steps):\n",
    "    \n",
    "    k_list = np.arange(0,initial_endowment+1,steps)\n",
    "    n_k = len(k_list)\n",
    "    \n",
    "    V = np.hstack([np.full((n_k, period), np.nan), np.zeros((n_k, 1))])\n",
    "    aux = np.full((n_k, n_k, period), -np.inf)\n",
    "    \n",
    "    for t in range(period-1,-1,-1):\n",
    "        for ink in range(n_k):\n",
    "            for outk in range(ink+1):\n",
    "                c = k_list[ink] - k_list[outk]\n",
    "                if c > 0:\n",
    "                    aux[ink,outk,t] = np.log(c) + beta * V[outk, t+1]\n",
    "        V[:,t] = np.max(aux[:,:,t],axis=1)\n",
    "    \n",
    "    vf = np.full(period,np.nan)\n",
    "    kap = np.full(period+1, np.nan)\n",
    "    kap[0] = initial_endowment\n",
    "    con = np.full(period,np.nan)\n",
    "    \n",
    "    for t in range(period):\n",
    "        k_index = np.where(k_list==kap[t])[0][0]\n",
    "        vf[t] = V[k_index, t]\n",
    "        outk_index = np.argmax(aux[k_index, :, t])\n",
    "        kap[t + 1] = k_list[outk_index]\n",
    "        con[t] = kap[t] - kap[t+1]\n",
    "    res = np.column_stack([kap[:-1], con])\n",
    "    return res\n",
    "\n",
    "b = 0.9\n",
    "T = 10\n",
    "k0 = 100.0\n",
    "grid = 0.25\n",
    "backwardinduction(beta=b, period=T, initial_endowment=k0, steps=grid)"
   ]
  },
  {
   "cell_type": "markdown",
   "id": "33de24df",
   "metadata": {},
   "source": [
    "### introduce stochastic term  \n",
    "\n",
    "The stochastic model does not have a single optimal solution"
   ]
  },
  {
   "cell_type": "code",
   "execution_count": 203,
   "id": "2ab21faa",
   "metadata": {},
   "outputs": [],
   "source": [
    "e = np.array([-2,2])\n",
    "prob = np.array([0.5,0.5])\n",
    "beta = 0.9\n",
    "theta = 1.2\n",
    "alpha = 0.98\n",
    "k0 = 100.0\n",
    "grid = 0.1\n",
    "T = 10\n",
    "\n",
    "def finite_stochastic(beta, initial_endowment, epsilon, pi, grid, period, theta, alpha):\n",
    "    \n",
    "    k_list = np.arange(0,k0+max(e),grid)\n",
    "    n_k = len(k_list)\n",
    "    \n",
    "    V = np.hstack([np.full((n_k,period), np.nan), np.zeros((n_k, 1))])\n",
    "    aux = np.full((n_k, n_k, period), -np.inf)\n",
    "    \n",
    "    for t in range(period-1,-1,-1):\n",
    "        for ink in range(n_k):\n",
    "            for outk in range(ink+1):\n",
    "                c = k_list[ink] - (k_list[outk]/theta) ^ (1/alpha)\n",
    "                nextkl = theta*(k_list[ink] - c) ^ alpha + e[0]\n",
    "                nextkl[nextkl < 0] = 0\n",
    "                nextkh = theta*(k_list[ink] - c) ^ alpha + e[1]\n",
    "                \n",
    "                lindex = np.round(nextkl / grid).astype(int)\n",
    "                hindex = np.round(nextkh / grid).astype(int)\n",
    "                nextV = pi[0] * V[lindex,t+1] + pi[1] * V[hindex,t+1]\n",
    "                \n",
    "                aux[ink,outk,t] = np.log(c) + beta * nextV\n",
    "        V[:,t] = np.max(aux[:,:,t],axis=1)\n"
   ]
  },
  {
   "cell_type": "markdown",
   "id": "765a80ab",
   "metadata": {},
   "source": [
    "# Estimating Finite Horizon Models  \n",
    "\n",
    "So far, it is assumed that we know the structural params, $\\beta$, $\\alpha$ and $\\theta$.  \n",
    "Here, we don't know them, and try to estimate them.  "
   ]
  }
 ],
 "metadata": {
  "kernelspec": {
   "display_name": "Python 3",
   "language": "python",
   "name": "python3"
  },
  "language_info": {
   "codemirror_mode": {
    "name": "ipython",
    "version": 3
   },
   "file_extension": ".py",
   "mimetype": "text/x-python",
   "name": "python",
   "nbconvert_exporter": "python",
   "pygments_lexer": "ipython3",
   "version": "3.12.2"
  }
 },
 "nbformat": 4,
 "nbformat_minor": 5
}
